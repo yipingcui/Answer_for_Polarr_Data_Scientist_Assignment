{
  "nbformat": 4,
  "nbformat_minor": 0,
  "metadata": {
    "colab": {
      "name": "“Answer for Polarr Data Scientist Assignment.ipynb”的副本",
      "version": "0.3.2",
      "provenance": [],
      "collapsed_sections": [],
      "toc_visible": true,
      "include_colab_link": true
    },
    "kernelspec": {
      "name": "python2",
      "display_name": "Python 2"
    },
    "accelerator": "GPU"
  },
  "cells": [
    {
      "cell_type": "markdown",
      "metadata": {
        "id": "view-in-github",
        "colab_type": "text"
      },
      "source": [
        "<a href=\"https://colab.research.google.com/github/yipingcui/Answer_for_Polarr_Data_Scientist_Assignment/blob/master/%E2%80%9CAnswer_for_Polarr_Data_Scientist_Assignment_ipynb%E2%80%9D%E7%9A%84%E5%89%AF%E6%9C%AC.ipynb\" target=\"_parent\"><img src=\"https://colab.research.google.com/assets/colab-badge.svg\" alt=\"Open In Colab\"/></a>"
      ]
    },
    {
      "metadata": {
        "id": "YJtHWWP6RBUT",
        "colab_type": "text"
      },
      "cell_type": "markdown",
      "source": [
        "#Connect google drive"
      ]
    },
    {
      "metadata": {
        "id": "KMb1uUTeXDdA",
        "colab_type": "text"
      },
      "cell_type": "markdown",
      "source": [
        "\n",
        "All data sets and code are stored in google drive. The following code first implements the connection between colab and google drive."
      ]
    },
    {
      "metadata": {
        "id": "lurO5VQRwWxT",
        "colab_type": "code",
        "outputId": "bca28ba9-2b50-407c-930f-9f024e374360",
        "colab": {
          "base_uri": "https://localhost:8080/",
          "height": 122
        }
      },
      "cell_type": "code",
      "source": [
        "!apt-get install -y -qq software-properties-common python-software-properties module-init-tools\n",
        "!add-apt-repository -y ppa:alessandro-strada/ppa 2>&1 > /dev/null\n",
        "!apt-get update -qq 2>&1 > /dev/null\n",
        "!apt-get -y install -qq google-drive-ocamlfuse fuse\n",
        "from google.colab import auth\n",
        "auth.authenticate_user()\n",
        "from oauth2client.client import GoogleCredentials\n",
        "creds = GoogleCredentials.get_application_default()\n",
        "import getpass\n",
        "!google-drive-ocamlfuse -headless -id={creds.client_id} -secret={creds.client_secret} < /dev/null 2>&1 | grep URL\n",
        "vcode = getpass.getpass()\n",
        "!echo {vcode} | google-drive-ocamlfuse -headless -id={creds.client_id} -secret={creds.client_secret}"
      ],
      "execution_count": 3,
      "outputs": [
        {
          "output_type": "stream",
          "text": [
            "E: Package 'python-software-properties' has no installation candidate\n",
            "Please, open the following URL in a web browser: https://accounts.google.com/o/oauth2/auth?client_id=32555940559.apps.googleusercontent.com&redirect_uri=urn%3Aietf%3Awg%3Aoauth%3A2.0%3Aoob&scope=https%3A%2F%2Fwww.googleapis.com%2Fauth%2Fdrive&response_type=code&access_type=offline&approval_prompt=force\n",
            "··········\n",
            "Please, open the following URL in a web browser: https://accounts.google.com/o/oauth2/auth?client_id=32555940559.apps.googleusercontent.com&redirect_uri=urn%3Aietf%3Awg%3Aoauth%3A2.0%3Aoob&scope=https%3A%2F%2Fwww.googleapis.com%2Fauth%2Fdrive&response_type=code&access_type=offline&approval_prompt=force\n",
            "Please enter the verification code: Access token retrieved correctly.\n"
          ],
          "name": "stdout"
        }
      ]
    },
    {
      "metadata": {
        "id": "5Jlrksm83iDx",
        "colab_type": "code",
        "cellView": "both",
        "colab": {}
      },
      "cell_type": "code",
      "source": [
        "!mkdir -p drive\n",
        "!google-drive-ocamlfuse drive"
      ],
      "execution_count": 0,
      "outputs": []
    },
    {
      "metadata": {
        "id": "k1g9XeWB4Ex-",
        "colab_type": "code",
        "outputId": "248dde8e-349e-4224-a00c-f59a44ce3250",
        "colab": {
          "base_uri": "https://localhost:8080/",
          "height": 34
        }
      },
      "cell_type": "code",
      "source": [
        "ls"
      ],
      "execution_count": 5,
      "outputs": [
        {
          "output_type": "stream",
          "text": [
            "adc.json  \u001b[0m\u001b[01;34mdrive\u001b[0m/  \u001b[01;34msample_data\u001b[0m/\n"
          ],
          "name": "stdout"
        }
      ]
    },
    {
      "metadata": {
        "id": "Qij5mdvu_iwi",
        "colab_type": "code",
        "colab": {}
      },
      "cell_type": "code",
      "source": [
        "import os\n",
        "os.chdir(\"drive/Colab Notebooks\")"
      ],
      "execution_count": 0,
      "outputs": []
    },
    {
      "metadata": {
        "id": "1MOsBvmERYOS",
        "colab_type": "text"
      },
      "cell_type": "markdown",
      "source": [
        "#Question 1 Getting the Data"
      ]
    },
    {
      "metadata": {
        "id": "h9McMusroz0W",
        "colab_type": "code",
        "outputId": "b608b514-bb3f-42fa-9548-b64d7219750a",
        "colab": {
          "base_uri": "https://localhost:8080/",
          "height": 122
        }
      },
      "cell_type": "code",
      "source": [
        "!pip install xlsxwriter"
      ],
      "execution_count": 7,
      "outputs": [
        {
          "output_type": "stream",
          "text": [
            "Collecting xlsxwriter\n",
            "\u001b[?25l  Downloading https://files.pythonhosted.org/packages/6e/57/8c0fe0f6d8a4c57c32528c8b1b31c0daba53af33cd3afedf3fcb0971c75a/XlsxWriter-1.1.5-py2.py3-none-any.whl (139kB)\n",
            "\u001b[K    100% |████████████████████████████████| 143kB 7.8MB/s \n",
            "\u001b[?25hInstalling collected packages: xlsxwriter\n",
            "Successfully installed xlsxwriter-1.1.5\n"
          ],
          "name": "stdout"
        }
      ]
    },
    {
      "metadata": {
        "id": "wsVAMCpuVuNx",
        "colab_type": "text"
      },
      "cell_type": "markdown",
      "source": [
        "Question:Clean up this dataset so that it only contains book entries, and is ordered based on the sales rank.\n",
        "The following code can be used to clean the data of the first question.Clean up this dataset so that it only contains book entries.\n",
        "The output file is *dataclean.xlsx*. After sorting according to *salesrank*, convert the file to *csv* format to get the desired data set."
      ]
    },
    {
      "metadata": {
        "id": "JeqBdZabqzgc",
        "colab_type": "code",
        "outputId": "82c65a9c-4eba-4231-eda3-a809b91ff1a4",
        "colab": {
          "base_uri": "https://localhost:8080/",
          "height": 102
        }
      },
      "cell_type": "code",
      "source": [
        "import sys\n",
        "stdi,stdo,stde=sys.stdin,sys.stdout,sys.stderr\n",
        "reload(sys)\n",
        "sys.stdin,sys.stdout,sys.stderr=stdi,stdo,stde \n",
        "sys.setdefaultencoding('utf-8')\n",
        "import re\n",
        "import datetime\n",
        "import xlsxwriter\n",
        "\n",
        "starttimerun = datetime.datetime.now()\n",
        "\n",
        "cleandata = xlsxwriter.Workbook('dataclean.xlsx')\n",
        "sheet = cleandata.add_worksheet('sheet 1')\n",
        " # indexing is zero based, row then column\n",
        "header = [u'Id',u'ASIN',u'title',u'salesrank']\n",
        "i = 0\n",
        "for each_header in header:\n",
        "    sheet.write(0,i,each_header)\n",
        "    i += 1\n",
        "    \n",
        "    \n",
        "row = 1\n",
        "file = 'amazon-meta.txt'\n",
        "with open(file,'r') as f:\n",
        "     for line in f.readlines():\n",
        "          if re.findall(r\"^Id\",line):\n",
        "              sheet.write(row,0, line.replace('Id:','').replace('\\n','')\n",
        "                          .replace(' ',''))\n",
        "          elif re.findall(r\"^ASIN\",line):\n",
        "              sheet.write(row,1, line.replace('ASIN:','').replace('\\n','')\n",
        "                          .replace(' ',''))\n",
        "          elif re.findall(r\"title\", line):\n",
        "              sheet.write(row, 2, line.replace('title:','').replace('\\n',''))\n",
        "          elif re.findall(r\"salesrank\", line):\n",
        "              sheet.write(row, 3, line.replace('salesrank:','').replace('\\n','')\n",
        "                          .replace(' ',''))\n",
        "              row +=1\n",
        "     else:\n",
        "          print(\"end\")\n",
        "         \n",
        "endtimerun = datetime.datetime.now()\n",
        "print(\"calculationtime:\")\n",
        "print (endtimerun - starttimerun).seconds\n",
        "\n",
        "starttimesave = datetime.datetime.now()\n",
        "cleandata.close()\n",
        "endtimesave = datetime.datetime.now()\n",
        "print (\"storagetime:\")\n",
        "print (endtimesave - starttimesave).seconds"
      ],
      "execution_count": 0,
      "outputs": [
        {
          "output_type": "stream",
          "text": [
            "end\n",
            "calculationtime:\n",
            "119\n",
            "storagetime:\n",
            "60\n"
          ],
          "name": "stdout"
        }
      ]
    },
    {
      "metadata": {
        "id": "kytp8BG2kO7z",
        "colab_type": "text"
      },
      "cell_type": "markdown",
      "source": [
        "Convert file types to *csv* format by excel. Sorted by *salesrank* in excel and stored in google drive. The following code runs as the first 5 lines of content."
      ]
    },
    {
      "metadata": {
        "id": "siDJlKbKTLHo",
        "colab_type": "code",
        "outputId": "004ea4d6-ec0f-4ec0-bcbb-83103e832081",
        "colab": {
          "base_uri": "https://localhost:8080/",
          "height": 238
        }
      },
      "cell_type": "code",
      "source": [
        "import pandas as pd\n",
        "\n",
        "datashow = pd.read_csv('dataclean.csv',nrows =5)\n",
        "print(datashow)"
      ],
      "execution_count": 0,
      "outputs": [
        {
          "output_type": "stream",
          "text": [
            "       Id        ASIN                                              title  \\\n",
            "0  392331   525445404                       Planes (A Unicorn Paperback)   \n",
            "1  293111  9994537873     The Efl/Esl Job Search Handbook: Included I...   \n",
            "2  408579   821812718          Algebraic Groups and Modular Lie Algebras   \n",
            "3    4568   413501000     Favourite Nights and Caught on a Train (Met...   \n",
            "4  242292  3540971076        How to Measure Angles from Foot Radiographs   \n",
            "\n",
            "   salesrank  \n",
            "0    3798351  \n",
            "1    3796990  \n",
            "2    3795269  \n",
            "3    3793303  \n",
            "4    3788732  \n"
          ],
          "name": "stdout"
        }
      ]
    },
    {
      "metadata": {
        "id": "mbaOnfoQyF-I",
        "colab_type": "text"
      },
      "cell_type": "markdown",
      "source": [
        "# Question 2 Managing the Data"
      ]
    },
    {
      "metadata": {
        "id": "luIFta8qyZz7",
        "colab_type": "text"
      },
      "cell_type": "markdown",
      "source": [
        "\n",
        "This question is mainly implemented in Oracle, the construction of the data table and the analysis of the problem can be found in the email attachment.\n"
      ]
    },
    {
      "metadata": {
        "id": "tsBJqsYpRf-U",
        "colab_type": "text"
      },
      "cell_type": "markdown",
      "source": [
        "# Question 3 Visualizing the Data"
      ]
    },
    {
      "metadata": {
        "id": "uP0sP2ucnD4H",
        "colab_type": "text"
      },
      "cell_type": "markdown",
      "source": [
        "# 3.1  By looking at this visualization, a viewer should be able to tell which book category is the most/least popular."
      ]
    },
    {
      "metadata": {
        "id": "GSyfMV5cnc4W",
        "colab_type": "text"
      },
      "cell_type": "markdown",
      "source": [
        "The book category has roughly seven levels. Based on the final level, there are 10,340 small classifications, and it is difficult to show all categories clearly using the traditional Cartesian coordinate system. Therefore, according to the characteristics of the categorization of book categories, it is proposed to use tree maps to realize the visual display of book categories and sales popularity. A tree map represents a hierarchy of book categories, and the area of each block in the figure directly represents the sales volume."
      ]
    },
    {
      "metadata": {
        "id": "Xpy2YuqW5Alt",
        "colab_type": "code",
        "outputId": "7ebfc147-76ef-4d25-b497-3b1d5c10ee23",
        "colab": {
          "base_uri": "https://localhost:8080/",
          "height": 173
        }
      },
      "cell_type": "code",
      "source": [
        "!pip install squarify"
      ],
      "execution_count": 9,
      "outputs": [
        {
          "output_type": "stream",
          "text": [
            "Collecting squarify\n",
            "  Downloading https://files.pythonhosted.org/packages/13/17/9d9006b21558b09cbf9a01cdde279c2588a07fd89ef0f41c70b1133ff4a8/squarify-0.4.2.tar.gz\n",
            "Building wheels for collected packages: squarify\n",
            "  Building wheel for squarify (setup.py) ... \u001b[?25ldone\n",
            "\u001b[?25h  Stored in directory: /root/.cache/pip/wheels/56/0f/f1/825619c5a84fe0818c3361d9bfbe707260facb1e902f355d8c\n",
            "Successfully built squarify\n",
            "Installing collected packages: squarify\n",
            "Successfully installed squarify-0.4.2\n"
          ],
          "name": "stdout"
        }
      ]
    },
    {
      "metadata": {
        "id": "zM03OyMUo0va",
        "colab_type": "code",
        "cellView": "both",
        "outputId": "7201696e-ffd6-4074-a0b8-fca6bdddb00e",
        "colab": {
          "base_uri": "https://localhost:8080/",
          "height": 364
        }
      },
      "cell_type": "code",
      "source": [
        "#@title Category Visualization\n",
        "\n",
        "import matplotlib.pyplot as plt\n",
        "import squarify\n",
        "\n",
        "#create data set\n",
        "category = ['By_publisher','Formats','Specialty_Stores','Subjects']\n",
        "\n",
        "popularity = [304735999,10914679637,7721851942,282994969622]\n",
        "\n",
        "colors = ['steelblue','#9999ff','red','indianred','deepskyblue','lime','magenta',\n",
        "          'violet','peru', 'green','yellow','orange','tomato','lawngreen','cyan',\n",
        "          'darkcyan','dodgerblue','teal','tan','royalblue']\n",
        "# details of the draw\n",
        "plot = squarify.plot(sizes = popularity,\n",
        "label = category,\n",
        "alpha = 0.6,\n",
        "color = colors,\n",
        "value =popularity,\n",
        "edgecolor = 'white', linewidth = 1)\n",
        "plt.rc('font',size =10)\n",
        "plot.set_title('popularity of categories',fontdict={'fontsize':15})\n",
        "plt.axis('off')\n",
        "plt.tick_params(top ='off',right='off')\n",
        "plt.show()"
      ],
      "execution_count": 0,
      "outputs": [
        {
          "output_type": "display_data",
          "data": {
            "image/png": "[encoded data removed]",
            "text/plain": [
              "<Figure size 576x396 with 1 Axes>"
            ]
          },
          "metadata": {
            "tags": []
          }
        }
      ]
    },
    {
      "metadata": {
        "id": "dKaW_PYUAUqo",
        "colab_type": "code",
        "outputId": "5fb8e1d9-063a-4e17-d911-97001fa7350a",
        "cellView": "both",
        "colab": {
          "base_uri": "https://localhost:8080/",
          "height": 362
        }
      },
      "cell_type": "code",
      "source": [
        "#@title Sub_category Visualization-by subjects\n",
        "\n",
        "import matplotlib.pyplot as plt\n",
        "import squarify\n",
        "import xlrd\n",
        "import os\n",
        "from datetime import date,datetime\n",
        "import seaborn as sns\n",
        "color = sns.color_palette()\n",
        "\n",
        "x1 = xlrd.open_workbook(r'secondcategory.xlsx')\n",
        "sheet = x1.sheet_by_name(\"secondcategory\")\n",
        "category = sheet.col_values(0)\n",
        "popularity = sheet.col_values(1)\n",
        "\n",
        "colors = ['red','steelblue','#9999ff','indianred','deepskyblue','lime',\n",
        "          'magenta','violet','peru', 'green','yellow','orange','tomato',\n",
        "          'lawngreen','cyan','darkcyan','dodgerblue','teal','tan','royalblue']\n",
        "    # details of the draw\n",
        "plot = squarify.plot(sizes = popularity,\n",
        "label = category,\n",
        "alpha = 0.8,\n",
        "color=colors,\n",
        "value =popularity,\n",
        "edgecolor = 'white', linewidth = 0.5)\n",
        "plt.rc('font',size =8)\n",
        "plot.set_title('categories of Subjects',fontdict={'fontsize':12})\n",
        "plt.axis('off')\n",
        "plt.tick_params(top ='off',right='off')\n",
        "plt.show()"
      ],
      "execution_count": 0,
      "outputs": [
        {
          "output_type": "display_data",
          "data": {
            "image/png": "[encoded data removed]",
            "text/plain": [
              "<Figure size 576x396 with 1 Axes>"
            ]
          },
          "metadata": {
            "tags": []
          }
        }
      ]
    },
    {
      "metadata": {
        "id": "z_sVstyssn03",
        "colab_type": "code",
        "cellView": "both",
        "outputId": "f9821953-8375-47df-ca3c-89ff774f68ee",
        "colab": {
          "base_uri": "https://localhost:8080/",
          "height": 362
        }
      },
      "cell_type": "code",
      "source": [
        "#@title Sub_category Visualization-by specialty stores\n",
        "import matplotlib.pyplot as plt\n",
        "import squarify\n",
        "import xlrd\n",
        "import os\n",
        "from datetime import date,datetime\n",
        "\n",
        "x1 = xlrd.open_workbook(r'secondcategory_specialty.xlsx')\n",
        "sheet = x1.sheet_by_name(\"second\")\n",
        "category = sheet.col_values(0)\n",
        "popularity = sheet.col_values(1)\n",
        "\n",
        "colors = ['red','steelblue','#9999ff','indianred',\n",
        "          'deepskyblue','lime','magenta','violet','peru',\n",
        "          'green','yellow','orange','tomato','lawngreen',\n",
        "          'cyan','darkcyan','dodgerblue','teal','tan',\n",
        "          'royalblue']\n",
        "    # details of the draw\n",
        "plot = squarify.plot(sizes = popularity,\n",
        "label = category,\n",
        "color=colors,\n",
        "alpha = 1.0,\n",
        "value =popularity,\n",
        "edgecolor = 'white', linewidth = 0.5)\n",
        "plt.rc('font',size =8)\n",
        "plot.set_title('Categories of Specialty Stores',fontdict={'fontsize':12})\n",
        "plt.axis('off')\n",
        "plt.tick_params(top ='off',right='off')\n",
        "plt.show()\n"
      ],
      "execution_count": 0,
      "outputs": [
        {
          "output_type": "display_data",
          "data": {
            "image/png": "[encoded data removed]",
            "text/plain": [
              "<Figure size 576x396 with 1 Axes>"
            ]
          },
          "metadata": {
            "tags": []
          }
        }
      ]
    },
    {
      "metadata": {
        "id": "iPT3ne_wtUPr",
        "colab_type": "code",
        "outputId": "24dff78f-d22c-4ca5-a3e8-56a4ea4b8f7e",
        "colab": {
          "base_uri": "https://localhost:8080/",
          "height": 362
        }
      },
      "cell_type": "code",
      "source": [
        "#@title Sub_category Visualization-by formats\n",
        "import matplotlib.pyplot as plt\n",
        "import squarify\n",
        "import xlrd\n",
        "import os\n",
        "from datetime import date,datetime\n",
        "\n",
        "x1 = xlrd.open_workbook(r'formats.xlsx')\n",
        "sheet = x1.sheet_by_name(\"formats\")\n",
        "category = sheet.col_values(0)\n",
        "popularity = sheet.col_values(1)\n",
        "\n",
        "colors = ['red','steelblue','#9999ff','indianred',\n",
        "          'deepskyblue','lime','magenta','violet',\n",
        "          'peru', 'green','yellow','orange','tomato',\n",
        "          'lawngreen','cyan','darkcyan','dodgerblue',\n",
        "          'teal','tan','royalblue']\n",
        "    # details of the draw\n",
        "plot = squarify.plot(sizes = popularity,\n",
        "label = category,\n",
        "color=colors,\n",
        "alpha = 1.0,\n",
        "value =popularity,\n",
        "edgecolor = 'white', linewidth = 0.5)\n",
        "plt.rc('font',size =8)\n",
        "plot.set_title('Categories of Formats',fontdict={'fontsize':12})\n",
        "plt.axis('off')\n",
        "plt.tick_params(top ='off',right='off')\n",
        "plt.show()"
      ],
      "execution_count": 11,
      "outputs": [
        {
          "output_type": "display_data",
          "data": {
            "image/png": "[encoded data removed]",
            "text/plain": [
              "<Figure size 576x396 with 1 Axes>"
            ]
          },
          "metadata": {
            "tags": []
          }
        }
      ]
    },
    {
      "metadata": {
        "id": "b7IEyMdIuneM",
        "colab_type": "text"
      },
      "cell_type": "markdown",
      "source": [
        "#3.2 A viewer should be able to tell which book category is the most/least popular at which year. "
      ]
    },
    {
      "metadata": {
        "id": "gN6JdsVBvBP7",
        "colab_type": "text"
      },
      "cell_type": "markdown",
      "source": [
        "The problem is solved by  Oracle and Excel. Full solution can be seen in the attachment in the email. "
      ]
    },
    {
      "metadata": {
        "id": "gNCAildAw4CJ",
        "colab_type": "text"
      },
      "cell_type": "markdown",
      "source": [
        "#3.3 If you're a book publisher executive, how would you use the visual data above to adjust the pricing for each category of your published books to maximize your revenue? If the visual data above doesn't help you answer such question, what other visualizations would you want to see?"
      ]
    },
    {
      "metadata": {
        "id": "qSzGjylcxBHu",
        "colab_type": "text"
      },
      "cell_type": "markdown",
      "source": [
        "The above visualization scheme can realize the adjustment of the book price. For book categories with a significant increase in sales, prices can be moderately increased based on actual growth. For books with reduced sales, especially in the recently sharp-reduced categories, prices should be appropriately lowered to promote consumption.\n",
        "The above visualization scheme can also be optimized by dynamic display of sub-categories."
      ]
    },
    {
      "metadata": {
        "id": "GRNhwe81R2Ux",
        "colab_type": "text"
      },
      "cell_type": "markdown",
      "source": [
        "# Question 4 Analyzing the Data"
      ]
    },
    {
      "metadata": {
        "id": "x6b6jvnb7TNJ",
        "colab_type": "text"
      },
      "cell_type": "markdown",
      "source": [
        "#4.1Given an arbitrary title, for example, \"Night of Many Dreams : A Novel\", write a function predict when and if this item was on sale at a discount."
      ]
    },
    {
      "metadata": {
        "id": "5zip0eHdHuYs",
        "colab_type": "code",
        "cellView": "both",
        "outputId": "0bcc7a52-43ab-478d-ba3c-8478a28f67e1",
        "colab": {
          "base_uri": "https://localhost:8080/",
          "height": 102
        }
      },
      "cell_type": "code",
      "source": [
        "import xlrd\n",
        "import re\n",
        "from itertools import chain\n",
        "from sklearn.naive_bayes import MultinomialNB\n",
        "from sklearn.feature_extraction.text import CountVectorizer\n",
        "\n",
        "#build dataset, construct word vector\n",
        "dataclean = xlrd.open_workbook(r'ifandwhen_title_sample.xlsx')\n",
        "sheet = dataclean.sheet_by_name(\"Sheet1\")\n",
        "\n",
        "datacleantest = xlrd.open_workbook(r'test.xlsx')\n",
        "sheet_test = datacleantest.sheet_by_name(\"Sheet1\")\n",
        "\n",
        "title = sheet.col_values(0)\n",
        "iaw = sheet.col_values(1)\n",
        "\n",
        "i = 0\n",
        "j0 = 0\n",
        "j1 = 0\n",
        "j2 = 0\n",
        "j3 = 0\n",
        "j4 = 0\n",
        "\n",
        "p0 = []\n",
        "p1 = []\n",
        "p2 = []\n",
        "p3 = []\n",
        "p4 = []\n",
        "\n",
        "#for i< 307454:\n",
        "\n",
        "for i in range(0, 292439, 1):\n",
        "    if iaw[i] == 'n':\n",
        "        p0.append(re.split(' ',title[i]))\n",
        "        i += 1\n",
        "    elif iaw[i] == 2006:\n",
        "        p1.append(re.split(' ', title[i]))\n",
        "        i += 1\n",
        "    elif iaw[i] == 2007:\n",
        "        p2.append(re.split(' ',title[i]))\n",
        "        i += 1\n",
        "    elif iaw[i] == 2008:\n",
        "        p3.append(re.split(' ', title[i]))\n",
        "        i += 1\n",
        "    elif iaw[i] == 2010:\n",
        "        p4.append(re.split(' ', title[i]))\n",
        "        i += 1\n",
        "else:\n",
        "    p0 = list(chain.from_iterable(p0))\n",
        "    p1 = list(chain.from_iterable(p1))\n",
        "    p2 = list(chain.from_iterable(p2))\n",
        "    p3 = list(chain.from_iterable(p3))\n",
        "    p4 = list(chain.from_iterable(p4))\n",
        "\n",
        "    pl0 = len(p0)\n",
        "    pl1 = len(p1)\n",
        "    pl2 = len(p2)\n",
        "    pl3 = len(p3)\n",
        "    pl4 = len(p4)\n",
        "    y0 = []\n",
        "    y1 = []\n",
        "    y2 = []\n",
        "    y3 = []\n",
        "    y4 = []\n",
        "    for j0 in range(0,pl0,1):\n",
        "        y0.append(1)\n",
        "        j0 += 1\n",
        "    else:\n",
        "\n",
        "     for j1 in range(0, pl1, 1):\n",
        "         y1.append(2)\n",
        "         j1 += 1\n",
        "     else:\n",
        "\n",
        "      for j2 in range(0, pl2, 1):\n",
        "          y2.append(3)\n",
        "          j2 += 1\n",
        "      else:\n",
        "\n",
        "       for j3 in range(0, pl3, 1):\n",
        "           y3.append(4)\n",
        "           j3 += 1\n",
        "       else:\n",
        "        for j4 in range(0, pl4, 1):\n",
        "            y4.append(5)\n",
        "            j4 += 1\n",
        "        else:\n",
        "\n",
        "         x = p0 + p1 + p2 + p3 + p4\n",
        "         y = y0 + y1 + y2 + y3 + y4\n",
        "\n",
        "         title1 = sheet_test.col_values(0)\n",
        "         iaw1 = sheet_test.col_values(1)\n",
        "\n",
        "         i1 = 0\n",
        "         j10 = 0\n",
        "         j11 = 0\n",
        "         j12 = 0\n",
        "         j13 = 0\n",
        "         j14 = 0\n",
        "\n",
        "         p10 = []\n",
        "         p11 = []\n",
        "         p12 = []\n",
        "         p13 = []\n",
        "         p14 = []\n",
        "\n",
        "         # for i< 307454:\n",
        "         for i1 in range(0,4999, 1):\n",
        "             if iaw[i1] == 'n':\n",
        "                 p10.append(re.split(' ', title[i1]))\n",
        "                 i1 += 1\n",
        "             elif iaw[i1] == 2006:\n",
        "                 p11.append(re.split(' ', title[i1]))\n",
        "                 i1 += 1\n",
        "             elif iaw[i1] == 2007:\n",
        "                 p12.append(re.split(' ', title[i1]))\n",
        "                 i1 += 1\n",
        "             elif iaw[i1] == 2008:\n",
        "                 p13.append(re.split(' ', title[i1]))\n",
        "                 i += 1\n",
        "             elif iaw[i1] == 2010:\n",
        "                 p14.append(re.split(' ', title[i1]))\n",
        "                 i1 += 1\n",
        "         else:\n",
        "             p10 = list(chain.from_iterable(p10))\n",
        "             p11 = list(chain.from_iterable(p11))\n",
        "             p12 = list(chain.from_iterable(p12))\n",
        "             p13 = list(chain.from_iterable(p13))\n",
        "             p14 = list(chain.from_iterable(p14))\n",
        "\n",
        "             p1l0 = len(p10)\n",
        "             p1l1 = len(p11)\n",
        "             p1l2 = len(p12)\n",
        "             p1l3 = len(p13)\n",
        "             p1l4 = len(p14)\n",
        "             y10 = []\n",
        "             y11 = []\n",
        "             y12 = []\n",
        "             y13 = []\n",
        "             y14 = []\n",
        "             for j10 in range(0, p1l0, 1):\n",
        "                 y10.append(1)\n",
        "                 j10 += 1\n",
        "             else:\n",
        "\n",
        "                 for j11 in range(0, p1l1, 1):\n",
        "                     y11.append(2)\n",
        "                     j11 += 1\n",
        "                 else:\n",
        "\n",
        "                     for j12 in range(0, p1l2, 1):\n",
        "                         y12.append(3)\n",
        "                         j12 += 1\n",
        "                     else:\n",
        "\n",
        "                         for j13 in range(0, p1l3, 1):\n",
        "                             y13.append(4)\n",
        "                             j13 += 1\n",
        "                         else:\n",
        "                             for j14 in range(0, p1l4, 1):\n",
        "                                 y14.append(5)\n",
        "                                 j14 += 1\n",
        "                             else:\n",
        "\n",
        "                                 x1 = p10 + p11 + p12 + p13 + p14\n",
        "                                 y1 = y10 + y11 + y12 + y13 + y14\n",
        "\n",
        "         x_result = [u'Night of Many Dreams : A Novel']\n",
        "         vec = CountVectorizer()\n",
        "         x_train = vec.fit_transform(x)\n",
        "         x_test = vec.fit_transform(x1)\n",
        "         x_result = vec.transform(x_result)\n",
        "\n",
        "\n",
        "         clf = MultinomialNB()\n",
        "         clf.fit(x_train,y) # Classifier\n",
        "         clf.fit(x_test,y1)\n",
        "\n",
        "         y_result = clf.predict(x_result)\n",
        "         y_predict = clf.predict(x_test)\n",
        "         y_score = clf.score(x_test, y1)\n",
        "\n",
        "\n",
        "print y_result\n",
        "print(\"1: no discount; 2:discount in 2006; 3: discount in 2007; 4: discount in 2008); 5: discount in 2010\")\n",
        "print y_predict\n",
        "print(\"accuracy:\", y_score)\n",
        "print(\"end\")"
      ],
      "execution_count": 12,
      "outputs": [
        {
          "output_type": "stream",
          "text": [
            "[1]\n",
            "1: no discount; 2:discount in 2006; 3: discount in 2007; 4: discount in 2008); 5: discount in 2010\n",
            "[2 2 2 ... 2 1 2]\n",
            "('accuracy:', 0.5798361854066313)\n",
            "end\n"
          ],
          "name": "stdout"
        }
      ]
    },
    {
      "metadata": {
        "id": "xWuK5Yva-sKH",
        "colab_type": "text"
      },
      "cell_type": "markdown",
      "source": [
        "#4.2 Given an arbitrary customer, for example, \"ATVPDKIKX0DER\", write a function to recommend 5 new movies (DVDs) that this person likely have not already watched but would enjoy."
      ]
    },
    {
      "metadata": {
        "id": "0FkSJxwVAJrC",
        "colab_type": "text"
      },
      "cell_type": "markdown",
      "source": [
        "The problem is solved by Oracle and Excel. Full solution can be seen in the attachment in the email."
      ]
    },
    {
      "metadata": {
        "id": "BF3bHJba_hUX",
        "colab_type": "text"
      },
      "cell_type": "markdown",
      "source": [
        "#4.3 (Bonus) Write a function to find all the customers who are most likely to be writing fake reviews. Listing all your assumptions as parameters in your code."
      ]
    },
    {
      "metadata": {
        "id": "U5nxpPBfBuhh",
        "colab_type": "text"
      },
      "cell_type": "markdown",
      "source": [
        "The problem is solved by Oracle and Excel. Full solution can be seen in the email attachment."
      ]
    }
  ]
}